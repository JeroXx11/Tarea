{
 "cells": [
  {
   "cell_type": "markdown",
   "metadata": {},
   "source": [
    "1) Responder las siguientes preguntas (20%, 5% cada uno):\n",
    "- ¿Qué es una clase y que es un objeto en Python? Explique las diferencias\n",
    "y muestre como se define una clase.\n",
    "- Explique la herencia en la programación orientada a objetos.\n",
    "- ¿Qué es la encapsulación en programación orientada a objetos? ¿Por\n",
    "qué utilizar esto?\n",
    "- Defina la abstracción en la programación orientada a objetos en Python,\n",
    "¿cómo se implementa en Python?"
   ]
  },
  {
   "cell_type": "markdown",
   "metadata": {},
   "source": [
    "-Una clase es un tipo de plantilla el cual contiene atributos y métodos relacionados a resolver un problema, en cambio los objetos existen en la memoria y cuando se haya creado una clase, pues, en la POO solo se codifican cuando se encuentran dentro de la clase o plantilla. \n",
    "-La herencia en POO es un pilar que permite realizar una relación de algo general hacia algo mas concreto, es decir podemos usar en una clase los métodos y atributos de otra clase, por lo tanto se puede decir que permite reutilizar código, a este le podemos añadir nuevas funciones. \n",
    "-La encapsulación en POO es un pilar usado para evitar que los atributos y métodos se manipulen por fuera de la clase, esto permite hacerlos publicos, privados o restringidos, los privados solo se pueden cambiar u obtener a partir de setters o getters. Esto se utiliza para ocultar información que podría ser prescindible para el usuario.\n",
    "-Permite identificar funciones sin la necesidad de conocerlas a fondo, es decir, saber que hacen. Se implementa mediante el método __init__ y mediante self"
   ]
  },
  {
   "cell_type": "markdown",
   "metadata": {},
   "source": [
    "2) Verdadero o falso y justificar (No tiene que ser una justificación larga) (10%,\n",
    "2.5% cada uno):\n",
    "- Las clases en Python no pueden heredar de más de una clase a la vez\n",
    "(No soportan herencia múltiple). \n",
    "Falso, si se puede realizar herencia multiple en Python, es decir una clase puede heredar atributos y métodos de diferentes super clases al tiempo \n",
    "- La herencia en Python hereda métodos, pero no las propiedades.\n",
    "Falso, Si se pueden heredar propiedades ????\n",
    "- Al heredar una clase en Python, la clase hija se puede modificar los\n",
    "métodos que fueron definidos en la clase padre para funcionar diferente\n",
    "en la clase hija.\n",
    "Verdadero, es conocido como sobreescritura de métodos\n",
    "- La función __init__() no es necesario ejecutarla en todos los casos\n",
    "cuando se define una clase hija.\n",
    "Falso, si se debe inicializar con el constructor\n"
   ]
  },
  {
   "cell_type": "markdown",
   "metadata": {},
   "source": [
    "3) Observe el siguiente código y respondas las preguntas (30%, 6% por\n",
    "pregunta):\n",
    "- ¿Qué clases son padres y que clases son hijas? ¿Qué es lo que se hereda\n",
    "de las clases padres a las hijas en este caso?\n",
    "- ¿Por qué al utilizar la función print en los objetos estudiante y profesor,\n",
    "se imprime la información ingresada y no algo diferente?\n",
    "- ¿Por qué a pesar de que “materia” tiene un encapsulamiento de tipo\n",
    "privado se puede hacer el cambio de la materia con profesor.materia =\n",
    "“”?.\n",
    "- Explique la función del decorador @property en el código.\n",
    "- Explique la función del decorador @materia.setter en el código.\n"
   ]
  },
  {
   "cell_type": "markdown",
   "metadata": {},
   "source": [
    "La clase padre es \"Persona\" y las clases hijas son \"profesor\" y \"estudiante\" de la clase padre se hereda nombre y apellido.\n"
   ]
  }
 ],
 "metadata": {
  "language_info": {
   "name": "python"
  }
 },
 "nbformat": 4,
 "nbformat_minor": 2
}
